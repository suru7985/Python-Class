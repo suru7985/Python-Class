{
 "cells": [
  {
   "cell_type": "code",
   "execution_count": null,
   "metadata": {},
   "outputs": [],
   "source": [
    "mark_lint = ['Ally',10,'Alan',30,'Brian',40,'David',50]"
   ]
  }
 ],
 "metadata": {
  "kernelspec": {
   "display_name": "Python 3.9.12 ('base')",
   "language": "python",
   "name": "python3"
  },
  "language_info": {
   "name": "python",
   "version": "3.9.12"
  },
  "orig_nbformat": 4,
  "vscode": {
   "interpreter": {
    "hash": "8ffdc11bececb8d95358727aa21129787f18025f8ea03f8e9c86b8ffd7924553"
   }
  }
 },
 "nbformat": 4,
 "nbformat_minor": 2
}
