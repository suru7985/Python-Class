{
 "cells": [
  {
   "cell_type": "code",
   "execution_count": 1,
   "metadata": {},
   "outputs": [
    {
     "name": "stdout",
     "output_type": "stream",
     "text": [
      "run\n",
      "run\n",
      "run\n",
      "run\n",
      "run\n",
      "run\n",
      "run\n",
      "run\n",
      "run\n",
      "run\n",
      "stop\n"
     ]
    }
   ],
   "source": [
    "x=1\n",
    "while x <= 10:\n",
    "    print('run')\n",
    "    x+=1\n",
    "print('stop')     "
   ]
  },
  {
   "cell_type": "code",
   "execution_count": 2,
   "metadata": {},
   "outputs": [
    {
     "name": "stdout",
     "output_type": "stream",
     "text": [
      "The sum is  1\n",
      "The sum is  3\n",
      "The sum is  6\n",
      "The sum is  10\n",
      "The sum is  15\n",
      "The sum is  21\n",
      "The sum is  28\n",
      "The sum is  36\n",
      "The sum is  45\n",
      "The sum is  55\n"
     ]
    }
   ],
   "source": [
    "n = 10\n",
    "sum = 0\n",
    "i = 1\n",
    "while i<=n:\n",
    "    sum = sum+i\n",
    "    i = i+1\n",
    "    print(\"The sum is \", sum)    "
   ]
  },
  {
   "cell_type": "code",
   "execution_count": 3,
   "metadata": {},
   "outputs": [
    {
     "name": "stdout",
     "output_type": "stream",
     "text": [
      "1\n",
      "2\n",
      "3\n",
      "4\n",
      "5\n",
      "6\n",
      "7\n",
      "8\n",
      "9\n",
      "10\n"
     ]
    }
   ],
   "source": [
    "a = [1,2,0,3,4,0,0,5,6,7,8,9,0,0,10]\n",
    "for i in a:\n",
    "    if i==0:\n",
    "      continue\n",
    "    print(i)"
   ]
  },
  {
   "cell_type": "code",
   "execution_count": 4,
   "metadata": {},
   "outputs": [
    {
     "name": "stdout",
     "output_type": "stream",
     "text": [
      "1\n",
      "2\n",
      "3\n",
      "4\n",
      "5\n",
      "6\n",
      "7\n",
      "8\n",
      "9\n",
      "10\n"
     ]
    }
   ],
   "source": [
    "a = [1,2,0,3,4,0,0,5,6,7,8,9,0,0,10]\n",
    "for i in a:\n",
    "    if i!=0:\n",
    "      print(i)"
   ]
  },
  {
   "cell_type": "code",
   "execution_count": 5,
   "metadata": {},
   "outputs": [
    {
     "name": "stdout",
     "output_type": "stream",
     "text": [
      "x\n",
      "y\n",
      "z\n"
     ]
    }
   ],
   "source": [
    "data=[\"x\",\"y\",\"z\",\"\",\"a\",\"b\",\"c\"]\n",
    "for name in data:\n",
    "    if len(name)==0:\n",
    "        break\n",
    "    print(name)  "
   ]
  },
  {
   "cell_type": "code",
   "execution_count": 6,
   "metadata": {},
   "outputs": [
    {
     "name": "stdout",
     "output_type": "stream",
     "text": [
      "\n"
     ]
    }
   ],
   "source": [
    "data = ''\n",
    "while True:\n",
    "    line = input('Enter a line')\n",
    "    if line:\n",
    "        data += line +'/n'\n",
    "    else:\n",
    "        break\n",
    "print(data)        "
   ]
  },
  {
   "cell_type": "markdown",
   "metadata": {},
   "source": [
    "while True mean ...(infinte loop ,)"
   ]
  },
  {
   "cell_type": "code",
   "execution_count": 7,
   "metadata": {},
   "outputs": [
    {
     "ename": "NameError",
     "evalue": "name 'speed' is not defined",
     "output_type": "error",
     "traceback": [
      "\u001b[1;31m---------------------------------------------------------------------------\u001b[0m",
      "\u001b[1;31mNameError\u001b[0m                                 Traceback (most recent call last)",
      "\u001b[1;32mc:\\Users\\shruti\\Documents\\Python Class\\basic\\whiledemo.ipynb Cell 8\u001b[0m in \u001b[0;36m<cell line: 1>\u001b[1;34m()\u001b[0m\n\u001b[1;32m----> <a href='vscode-notebook-cell:/c%3A/Users/shruti/Documents/Python%20Class/basic/whiledemo.ipynb#X10sZmlsZQ%3D%3D?line=0'>1</a>\u001b[0m \u001b[39mfrom\u001b[39;00m \u001b[39mturtle\u001b[39;00m \u001b[39mimport\u001b[39;00m \u001b[39m*\u001b[39m\n\u001b[0;32m      <a href='vscode-notebook-cell:/c%3A/Users/shruti/Documents/Python%20Class/basic/whiledemo.ipynb#X10sZmlsZQ%3D%3D?line=1'>2</a>\u001b[0m i \u001b[39m=\u001b[39m \u001b[39m5\u001b[39m\n\u001b[0;32m      <a href='vscode-notebook-cell:/c%3A/Users/shruti/Documents/Python%20Class/basic/whiledemo.ipynb#X10sZmlsZQ%3D%3D?line=2'>3</a>\u001b[0m speed(\u001b[39m'\u001b[39m\u001b[39mslowest\u001b[39m\u001b[39m'\u001b[39m)\n",
      "File \u001b[1;32mc:\\Users\\shruti\\Documents\\Python Class\\basic\\turtle.py:2\u001b[0m, in \u001b[0;36m<module>\u001b[1;34m\u001b[0m\n\u001b[0;32m      1\u001b[0m \u001b[39mfrom\u001b[39;00m \u001b[39mturtle\u001b[39;00m \u001b[39mimport\u001b[39;00m\u001b[39m*\u001b[39m\n\u001b[1;32m----> 2\u001b[0m speed (\u001b[39m\"\u001b[39m\u001b[39mfastest\u001b[39m\u001b[39m\"\u001b[39m)\n\u001b[0;32m      4\u001b[0m t1 \u001b[39m=\u001b[39m Turtle()\n\u001b[0;32m      5\u001b[0m t2 \u001b[39m=\u001b[39m Turtle()\n",
      "\u001b[1;31mNameError\u001b[0m: name 'speed' is not defined"
     ]
    }
   ],
   "source": [
    "from turtle import *\n",
    "i = 5\n",
    "speed('slowest')\n",
    "while True:\n",
    "    circle(i,i)\n",
    "    left(60)\n",
    "    i+=5\n",
    "    if i>1000:\n",
    "        break\n"
   ]
  },
  {
   "cell_type": "markdown",
   "metadata": {},
   "source": [
    "#for else prg"
   ]
  },
  {
   "cell_type": "code",
   "execution_count": null,
   "metadata": {},
   "outputs": [
    {
     "name": "stdout",
     "output_type": "stream",
     "text": [
      "we have  apple\n",
      "we have  banana\n",
      "we have  mango\n",
      "thats all\n"
     ]
    }
   ],
   "source": [
    "fruits = [\"apple\",\"banana\",\"mango\"]\n",
    "for fruit in fruits :\n",
    "    print (\"we have \",fruit)\n",
    "else:\n",
    "    print(\"thats all\")"
   ]
  },
  {
   "cell_type": "markdown",
   "metadata": {},
   "source": [
    "#Range define where the number start or end\n",
    "#Prime number prog.. "
   ]
  },
  {
   "cell_type": "code",
   "execution_count": null,
   "metadata": {},
   "outputs": [
    {
     "name": "stdout",
     "output_type": "stream",
     "text": [
      "not a print number\n"
     ]
    }
   ],
   "source": [
    "num = int(input('Enter a number greater than 1'))\n",
    "for i in range(2,num):\n",
    "    if num % i == 0:\n",
    "        print('not a print number')\n",
    "        break\n",
    "else:\n",
    "    print('prime number')    "
   ]
  },
  {
   "cell_type": "code",
   "execution_count": null,
   "metadata": {},
   "outputs": [
    {
     "name": "stdout",
     "output_type": "stream",
     "text": [
      "3\n",
      "6\n",
      "9\n",
      "12\n",
      "15\n",
      "18\n",
      "21\n",
      "24\n",
      "27\n",
      "30\n"
     ]
    }
   ],
   "source": [
    "i = 1\n",
    "while i<=10:\n",
    "    print(i*3)\n",
    "    i+=1   "
   ]
  },
  {
   "cell_type": "code",
   "execution_count": null,
   "metadata": {},
   "outputs": [],
   "source": []
  }
 ],
 "metadata": {
  "kernelspec": {
   "display_name": "Python 3.9.12 ('base')",
   "language": "python",
   "name": "python3"
  },
  "language_info": {
   "codemirror_mode": {
    "name": "ipython",
    "version": 3
   },
   "file_extension": ".py",
   "mimetype": "text/x-python",
   "name": "python",
   "nbconvert_exporter": "python",
   "pygments_lexer": "ipython3",
   "version": "3.9.12"
  },
  "orig_nbformat": 4,
  "vscode": {
   "interpreter": {
    "hash": "8ffdc11bececb8d95358727aa21129787f18025f8ea03f8e9c86b8ffd7924553"
   }
  }
 },
 "nbformat": 4,
 "nbformat_minor": 2
}
