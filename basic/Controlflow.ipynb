{
 "cells": [
  {
   "cell_type": "code",
   "execution_count": 5,
   "metadata": {},
   "outputs": [
    {
     "name": "stdout",
     "output_type": "stream",
     "text": [
      "You See a Apple Seller\n",
      "purchase 2kg of apples\n"
     ]
    }
   ],
   "source": [
    "print('You See a Apple Seller')\n",
    "x = input('do you like apple ?')\n",
    "if x == 'yes' or x == 'Y' :\n",
    "    print('purchase 2kg of apples')\n",
    "if x == 'no' :\n",
    "    print('you dont purchase apples')   "
   ]
  },
  {
   "cell_type": "code",
   "execution_count": 9,
   "metadata": {},
   "outputs": [
    {
     "name": "stdout",
     "output_type": "stream",
     "text": [
      "the end\n"
     ]
    }
   ],
   "source": [
    "x = 0\n",
    "if x > 5:\n",
    "    print('x is greater than 5')\n",
    "    print('this is the info we needed')\n",
    "    print('with the power, comes great responsibility')\n",
    "print('the end')    "
   ]
  },
  {
   "cell_type": "code",
   "execution_count": 3,
   "metadata": {},
   "outputs": [
    {
     "name": "stdout",
     "output_type": "stream",
     "text": [
      "wear pants\n",
      "Get some exercise also\n"
     ]
    }
   ],
   "source": [
    "temp = float(input('What is the temp'))\n",
    "if temp > 70:\n",
    "    print('wear shorts')\n",
    "else:\n",
    "    print('wear pants')\n",
    "print('Get some exercise also')        "
   ]
  },
  {
   "cell_type": "code",
   "execution_count": 16,
   "metadata": {},
   "outputs": [
    {
     "ename": "NameError",
     "evalue": "name 'Score' is not defined",
     "output_type": "error",
     "traceback": [
      "\u001b[1;31m---------------------------------------------------------------------------\u001b[0m",
      "\u001b[1;31mNameError\u001b[0m                                 Traceback (most recent call last)",
      "\u001b[1;32mc:\\Users\\shruti\\Documents\\Python Class\\Controlflow.ipynb Cell 4'\u001b[0m in \u001b[0;36m<cell line: 2>\u001b[1;34m()\u001b[0m\n\u001b[0;32m      <a href='vscode-notebook-cell:/c%3A/Users/shruti/Documents/Python%20Class/Controlflow.ipynb#ch0000005?line=3'>4</a>\u001b[0m \u001b[39melif\u001b[39;00m score \u001b[39m>\u001b[39m\u001b[39m=\u001b[39m\u001b[39m80\u001b[39m:\n\u001b[0;32m      <a href='vscode-notebook-cell:/c%3A/Users/shruti/Documents/Python%20Class/Controlflow.ipynb#ch0000005?line=4'>5</a>\u001b[0m     letter \u001b[39m=\u001b[39m \u001b[39m'\u001b[39m\u001b[39mB\u001b[39m\u001b[39m'\u001b[39m\n\u001b[1;32m----> <a href='vscode-notebook-cell:/c%3A/Users/shruti/Documents/Python%20Class/Controlflow.ipynb#ch0000005?line=5'>6</a>\u001b[0m \u001b[39melif\u001b[39;00m Score \u001b[39m>\u001b[39m\u001b[39m=\u001b[39m\u001b[39m70\u001b[39m:\n\u001b[0;32m      <a href='vscode-notebook-cell:/c%3A/Users/shruti/Documents/Python%20Class/Controlflow.ipynb#ch0000005?line=6'>7</a>\u001b[0m     letter \u001b[39m=\u001b[39m \u001b[39m'\u001b[39m\u001b[39mC\u001b[39m\u001b[39m'\u001b[39m\n",
      "\u001b[1;31mNameError\u001b[0m: name 'Score' is not defined"
     ]
    }
   ],
   "source": [
    "score = int(input('Your score'))\n",
    "if score >=90:\n",
    "    letter = 'A'\n",
    "elif score >=80:\n",
    "    letter = 'B'\n",
    "elif Score >=70:\n",
    "    letter = 'C'\n",
    "    \n"
   ]
  },
  {
   "cell_type": "code",
   "execution_count": null,
   "metadata": {},
   "outputs": [],
   "source": []
  },
  {
   "cell_type": "code",
   "execution_count": 14,
   "metadata": {},
   "outputs": [
    {
     "name": "stdout",
     "output_type": "stream",
     "text": [
      "x\n"
     ]
    }
   ],
   "source": [
    "x = \"Ally\" if \"Jon\" in \"My name is Jonas\" else \"Bob\"\n",
    "print('x')"
   ]
  },
  {
   "cell_type": "code",
   "execution_count": null,
   "metadata": {},
   "outputs": [],
   "source": []
  },
  {
   "cell_type": "code",
   "execution_count": null,
   "metadata": {},
   "outputs": [],
   "source": []
  }
 ],
 "metadata": {
  "kernelspec": {
   "display_name": "Python 3.9.12 ('base')",
   "language": "python",
   "name": "python3"
  },
  "language_info": {
   "codemirror_mode": {
    "name": "ipython",
    "version": 3
   },
   "file_extension": ".py",
   "mimetype": "text/x-python",
   "name": "python",
   "nbconvert_exporter": "python",
   "pygments_lexer": "ipython3",
   "version": "3.9.12"
  },
  "orig_nbformat": 4,
  "vscode": {
   "interpreter": {
    "hash": "8ffdc11bececb8d95358727aa21129787f18025f8ea03f8e9c86b8ffd7924553"
   }
  }
 },
 "nbformat": 4,
 "nbformat_minor": 2
}
