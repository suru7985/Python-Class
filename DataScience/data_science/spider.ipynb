{
 "cells": [
  {
   "cell_type": "code",
   "execution_count": 73,
   "metadata": {},
   "outputs": [],
   "source": [
    "from dputils import scrape as sc"
   ]
  },
  {
   "cell_type": "code",
   "execution_count": 74,
   "metadata": {},
   "outputs": [],
   "source": [
    "url=\"https://www.amazon.in/s?k=mobile&crid=KKDN4JS13LDG&sprefix=mobil%2Caps%2C259&ref=nb_sb_ss_ts-doa-p_2_5\"\n",
    "soup = sc.get_webpage_data(url)"
   ]
  },
  {
   "cell_type": "code",
   "execution_count": 75,
   "metadata": {},
   "outputs": [
    {
     "data": {
      "text/plain": [
       "<title>Amazon.in : mobile</title>"
      ]
     },
     "execution_count": 75,
     "metadata": {},
     "output_type": "execute_result"
    }
   ],
   "source": [
    "soup.find('title')"
   ]
  },
  {
   "cell_type": "code",
   "execution_count": 80,
   "metadata": {},
   "outputs": [],
   "source": [
    "target = {\n",
    "    'tag':'div',\n",
    "    'attrs': {\n",
    "        'class':'s-main-slot s-result-list s-search-results sg-row'\n",
    "    }\n",
    "}"
   ]
  },
  {
   "cell_type": "code",
   "execution_count": 81,
   "metadata": {},
   "outputs": [],
   "source": [
    "items = {'tag':'div','attrs':{'class' :'s-result-item'}}\n",
    "\n",
    "title = {'tag':'h2','attrs':{'class':'a-size-mini a-spacing-none a-color-base s-line-clamp-2'}}\n",
    "\n",
    "\n",
    "price = {'tag':'span','attrs':{'class':'a-price-whole'}}\n",
    "            "
   ]
  },
  {
   "cell_type": "code",
   "execution_count": 82,
   "metadata": {},
   "outputs": [
    {
     "name": "stdout",
     "output_type": "stream",
     "text": [
      "31 items found\n",
      "Item skipped at index: 0\n",
      "Item skipped at index: 1\n",
      "Item skipped at index: 8\n",
      "Item skipped at index: 18\n",
      "Item skipped at index: 27\n",
      "Item skipped at index: 28\n",
      "Item skipped at index: 29\n",
      "Item skipped at index: 30\n",
      "All items extracted\n"
     ]
    }
   ],
   "source": [
    "output = sc.extract_many(soup,target=target, items=items, title=title, price=price)"
   ]
  },
  {
   "cell_type": "code",
   "execution_count": 83,
   "metadata": {},
   "outputs": [
    {
     "name": "stdout",
     "output_type": "stream",
     "text": [
      "[{'price': '13,999',\n",
      "  'title': 'Samsung Galaxy M13 (Aqua Green, 6GB, 128GB Storage) | 6000mAh '\n",
      "           'Battery | Upto 12GB RAM with RAM Plus | 2000 Instant Discount on '\n",
      "           'SBI Credit Cards Valid Till 10th August'},\n",
      " {'price': '18,999',\n",
      "  'title': 'Samsung Galaxy M33 5G (Mystique Green, 6GB, 128GB Storage) | '\n",
      "           '6000mAh Battery | Upto 12GB RAM with RAM Plus | Travel Adapter to '\n",
      "           'be Purchased Separately'},\n",
      " {'price': '6,999',\n",
      "  'title': 'Redmi 9A Sport (Coral Green, 2GB RAM, 32GB Storage) | 2GHz '\n",
      "           'Octa-core Helio G25 Processor | 5000 mAh Battery'},\n",
      " {'price': '11,990',\n",
      "  'title': 'OPPO A31 (Mystery Black, 6GB RAM, 128GB Storage) with No Cost '\n",
      "           'EMI/Additional Exchange Offers'},\n",
      " {'price': '14,990',\n",
      "  'title': 'OPPO A74 5G (Fantastic Purple,6GB RAM,128GB Storage) with No Cost '\n",
      "           'EMI/Additional Exchange Offers'},\n",
      " {'price': '18,999',\n",
      "  'title': 'Redmi Note 11 Pro (Stealth Black, 6GB RAM, 128GB Storage) | 67W '\n",
      "           'Turbo Charge | 120Hz Super AMOLED Display'},\n",
      " {'price': '8,999',\n",
      "  'title': 'Redmi 9 Activ (Coral Green, 4GB RAM, 64GB Storage)'},\n",
      " {'price': '9,990',\n",
      "  'title': 'OPPO A15s (Rainbow Silver, 4GB RAM, 64GB Storage) With No Cost '\n",
      "           'EMI/Additional Exchange Offers'},\n",
      " {'price': '14,999',\n",
      "  'title': 'Redmi Note 11T 5G (Matte Black, 6GB RAM, 128GB ROM)| Dimensity 810 '\n",
      "           '5G | 33W Pro Fast Charging | Charger Included | Additional '\n",
      "           'Exchange Offers|Get 2 Months of YouTube Premium Free!'},\n",
      " {'price': '12,999',\n",
      "  'title': 'Redmi 10 Prime (Phantom Black 6GB RAM 128GB ROM |Helio G88 with '\n",
      "           'extendable RAM Upto 2GB |FHD+ 90Hz Adaptive Sync Display)'},\n",
      " {'price': '8,799', 'title': 'Redmi 10A (Slate Grey, 4GB RAM, 64GB Storage)'},\n",
      " {'price': '11,299',\n",
      "  'title': 'Nokia C21 Plus Android Smartphone, Dual SIM, 3-Day Battery Life, '\n",
      "           '4GB RAM + 64GB Storage, 13MP Dual Camera with HDR | Warm Grey'},\n",
      " {'price': '17,990',\n",
      "  'title': 'Vivo Y33T (Mirror Black, 8GB RAM, 128GB ROM) Without Offers, '\n",
      "           '(PD2142BF_Mirror Black_1)'},\n",
      " {'price': '10,999',\n",
      "  'title': 'Redmi 10 Prime (Phantom Black 4GB RAM 64GB | Helio G88 with '\n",
      "           'extendable RAM Upto 2GB | FHD+ 90Hz Adaptive Sync Display)'},\n",
      " {'price': '14,990',\n",
      "  'title': 'OPPO A74 5G (Fluid Black, 6GB RAM, 128GB Storage) with No Cost '\n",
      "           'EMI/Additional Exchange Offers'},\n",
      " {'price': '6,999',\n",
      "  'title': 'Redmi 9A Sport (Metallic Blue, 2GB RAM, 32GB Storage) | 2GHz '\n",
      "           'Octa-core Helio G25 Processor | 5000 mAh Battery'},\n",
      " {'price': '6,999',\n",
      "  'title': 'Redmi 9A Sport (Carbon Black, 2GB RAM, 32GB Storage) | 2GHz '\n",
      "           'Octa-core Helio G25 Processor | 5000 mAh Battery'},\n",
      " {'price': '18,999',\n",
      "  'title': 'OnePlus Nord CE 2 Lite 5G (Black Dusk, 6GB RAM, 128GB Storage)'},\n",
      " {'price': '4,737',\n",
      "  'title': 'JioPhone Next 32 GB ROM, 2 GB RAM, Blue Smartphone'},\n",
      " {'price': '11,999',\n",
      "  'title': 'Samsung Galaxy M13 (Midnight Blue, 4GB, 64GB Storage) | 6000mAh '\n",
      "           'Battery | Upto 8GB RAM with RAM Plus | 2000 Instant Discount on '\n",
      "           'SBI Credit Cards Valid Till 10th August'},\n",
      " {'price': '11,999',\n",
      "  'title': 'Samsung Galaxy M12 (Blue,4GB RAM, 64GB Storage) 6000 mAh with 8nm '\n",
      "           'Processor | True 48 MP Quad Camera | 90Hz Refresh Rate'},\n",
      " {'price': '12,999',\n",
      "  'title': 'Redmi Note 11 (Horizon Blue, 4GB RAM, 64GB Storage) | 90Hz FHD+ '\n",
      "           'AMOLED Display | Qualcomm® Snapdragon™ 680-6nm | Alexa Built-in | '\n",
      "           '33W Charger Included | Get 2 Months of YouTube Premium Free!'},\n",
      " {'price': '14,999',\n",
      "  'title': 'Redmi Note 11T 5G (Stardust White, 6GB RAM, 128GB ROM)| Dimensity '\n",
      "           '810 5G | 33W Pro Fast Charging | Charger Included | Additional '\n",
      "           'Exchange Offers|Get 2 Months of YouTube Premium Free!'}]\n"
     ]
    }
   ],
   "source": [
    "from pprint import pprint\n",
    "pprint(output)"
   ]
  },
  {
   "cell_type": "code",
   "execution_count": null,
   "metadata": {},
   "outputs": [],
   "source": []
  }
 ],
 "metadata": {
  "kernelspec": {
   "display_name": "Python 3.9.12 ('base')",
   "language": "python",
   "name": "python3"
  },
  "language_info": {
   "codemirror_mode": {
    "name": "ipython",
    "version": 3
   },
   "file_extension": ".py",
   "mimetype": "text/x-python",
   "name": "python",
   "nbconvert_exporter": "python",
   "pygments_lexer": "ipython3",
   "version": "3.9.12"
  },
  "orig_nbformat": 4,
  "vscode": {
   "interpreter": {
    "hash": "8ffdc11bececb8d95358727aa21129787f18025f8ea03f8e9c86b8ffd7924553"
   }
  }
 },
 "nbformat": 4,
 "nbformat_minor": 2
}
