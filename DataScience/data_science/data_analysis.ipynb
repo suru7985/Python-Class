{
 "cells": [
  {
   "cell_type": "code",
   "execution_count": 34,
   "metadata": {},
   "outputs": [],
   "source": [
    "import numpy as np\n",
    "import pandas as pd"
   ]
  },
  {
   "cell_type": "code",
   "execution_count": 35,
   "metadata": {},
   "outputs": [],
   "source": [
    "x =[1,2,3,4,1,2]\n",
    "nx = np.array(x)"
   ]
  },
  {
   "cell_type": "code",
   "execution_count": 36,
   "metadata": {},
   "outputs": [
    {
     "name": "stdout",
     "output_type": "stream",
     "text": [
      "[1 2 3 4 1 2]\n"
     ]
    }
   ],
   "source": [
    "print(nx)"
   ]
  },
  {
   "cell_type": "code",
   "execution_count": 37,
   "metadata": {},
   "outputs": [
    {
     "name": "stdout",
     "output_type": "stream",
     "text": [
      "(6,)\n"
     ]
    }
   ],
   "source": [
    "print(nx.shape)"
   ]
  },
  {
   "cell_type": "code",
   "execution_count": 38,
   "metadata": {},
   "outputs": [],
   "source": [
    "ny = np.array([[1,2,3],[5,6,7]])"
   ]
  },
  {
   "cell_type": "code",
   "execution_count": 39,
   "metadata": {},
   "outputs": [
    {
     "name": "stdout",
     "output_type": "stream",
     "text": [
      "(2, 3)\n"
     ]
    }
   ],
   "source": [
    "print(ny.shape)"
   ]
  },
  {
   "cell_type": "code",
   "execution_count": 40,
   "metadata": {},
   "outputs": [
    {
     "data": {
      "text/plain": [
       "array([[1, 2, 3],\n",
       "       [5, 6, 7]])"
      ]
     },
     "execution_count": 40,
     "metadata": {},
     "output_type": "execute_result"
    }
   ],
   "source": [
    "ny"
   ]
  },
  {
   "cell_type": "code",
   "execution_count": 41,
   "metadata": {},
   "outputs": [
    {
     "name": "stdout",
     "output_type": "stream",
     "text": [
      "[ 1.   1.2  1.4  1.6  1.8  2.   2.2  2.4  2.6  2.8  3.   3.2  3.4  3.6\n",
      "  3.8  4.   4.2  4.4  4.6  4.8  5.   5.2  5.4  5.6  5.8  6.   6.2  6.4\n",
      "  6.6  6.8  7.   7.2  7.4  7.6  7.8  8.   8.2  8.4  8.6  8.8  9.   9.2\n",
      "  9.4  9.6  9.8 10.  10.2 10.4 10.6 10.8 11.  11.2 11.4 11.6 11.8 12.\n",
      " 12.2 12.4 12.6 12.8 13.  13.2 13.4 13.6 13.8 14.  14.2 14.4 14.6 14.8\n",
      " 15.  15.2 15.4 15.6 15.8 16.  16.2 16.4 16.6 16.8 17.  17.2 17.4 17.6\n",
      " 17.8 18.  18.2 18.4 18.6 18.8 19.  19.2 19.4 19.6 19.8 20.  20.2 20.4\n",
      " 20.6 20.8 21.  21.2 21.4 21.6 21.8 22.  22.2 22.4 22.6 22.8 23.  23.2\n",
      " 23.4 23.6 23.8 24.  24.2 24.4 24.6 24.8 25.  25.2 25.4 25.6 25.8 26.\n",
      " 26.2 26.4 26.6 26.8 27.  27.2 27.4 27.6 27.8 28.  28.2 28.4 28.6 28.8\n",
      " 29.  29.2 29.4 29.6 29.8 30.  30.2 30.4 30.6 30.8 31.  31.2 31.4 31.6\n",
      " 31.8 32.  32.2 32.4 32.6 32.8 33.  33.2 33.4 33.6 33.8 34.  34.2 34.4\n",
      " 34.6 34.8 35.  35.2 35.4 35.6 35.8 36.  36.2 36.4 36.6 36.8 37.  37.2\n",
      " 37.4 37.6 37.8 38.  38.2 38.4 38.6 38.8 39.  39.2 39.4 39.6 39.8 40.\n",
      " 40.2 40.4 40.6 40.8 41.  41.2 41.4 41.6 41.8 42.  42.2 42.4 42.6 42.8\n",
      " 43.  43.2 43.4 43.6 43.8 44.  44.2 44.4 44.6 44.8 45.  45.2 45.4 45.6\n",
      " 45.8 46.  46.2 46.4 46.6 46.8 47.  47.2 47.4 47.6 47.8 48.  48.2 48.4\n",
      " 48.6 48.8 49.  49.2 49.4 49.6 49.8 50.  50.2 50.4 50.6 50.8 51.  51.2\n",
      " 51.4 51.6 51.8 52.  52.2 52.4 52.6 52.8 53.  53.2 53.4 53.6 53.8 54.\n",
      " 54.2 54.4 54.6 54.8 55.  55.2 55.4 55.6 55.8 56.  56.2 56.4 56.6 56.8\n",
      " 57.  57.2 57.4 57.6 57.8 58.  58.2 58.4 58.6 58.8 59.  59.2 59.4 59.6\n",
      " 59.8 60.  60.2 60.4 60.6 60.8 61.  61.2 61.4 61.6 61.8 62.  62.2 62.4\n",
      " 62.6 62.8 63.  63.2 63.4 63.6 63.8 64.  64.2 64.4 64.6 64.8 65.  65.2\n",
      " 65.4 65.6 65.8 66.  66.2 66.4 66.6 66.8 67.  67.2 67.4 67.6 67.8 68.\n",
      " 68.2 68.4 68.6 68.8 69.  69.2 69.4 69.6 69.8 70.  70.2 70.4 70.6 70.8\n",
      " 71.  71.2 71.4 71.6 71.8 72.  72.2 72.4 72.6 72.8 73.  73.2 73.4 73.6\n",
      " 73.8 74.  74.2 74.4 74.6 74.8 75.  75.2 75.4 75.6 75.8 76.  76.2 76.4\n",
      " 76.6 76.8 77.  77.2 77.4 77.6 77.8 78.  78.2 78.4 78.6 78.8 79.  79.2\n",
      " 79.4 79.6 79.8 80.  80.2 80.4 80.6 80.8 81.  81.2 81.4 81.6 81.8 82.\n",
      " 82.2 82.4 82.6 82.8 83.  83.2 83.4 83.6 83.8 84.  84.2 84.4 84.6 84.8\n",
      " 85.  85.2 85.4 85.6 85.8 86.  86.2 86.4 86.6 86.8 87.  87.2 87.4 87.6\n",
      " 87.8 88.  88.2 88.4 88.6 88.8 89.  89.2 89.4 89.6 89.8 90.  90.2 90.4\n",
      " 90.6 90.8 91.  91.2 91.4 91.6 91.8 92.  92.2 92.4 92.6 92.8 93.  93.2\n",
      " 93.4 93.6 93.8 94.  94.2 94.4 94.6 94.8 95.  95.2 95.4 95.6 95.8 96.\n",
      " 96.2 96.4 96.6 96.8 97.  97.2 97.4 97.6 97.8 98.  98.2 98.4 98.6 98.8\n",
      " 99.  99.2 99.4 99.6 99.8]\n"
     ]
    }
   ],
   "source": [
    "one = np.arange(1,100,.2)\n",
    "print(one)"
   ]
  },
  {
   "cell_type": "code",
   "execution_count": 42,
   "metadata": {},
   "outputs": [
    {
     "name": "stdout",
     "output_type": "stream",
     "text": [
      "495\n"
     ]
    }
   ],
   "source": [
    "print(one.size)"
   ]
  },
  {
   "cell_type": "code",
   "execution_count": 43,
   "metadata": {},
   "outputs": [
    {
     "data": {
      "text/plain": [
       "array([  1.        ,   1.49748744,   1.99497487,   2.49246231,\n",
       "         2.98994975,   3.48743719,   3.98492462,   4.48241206,\n",
       "         4.9798995 ,   5.47738693,   5.97487437,   6.47236181,\n",
       "         6.96984925,   7.46733668,   7.96482412,   8.46231156,\n",
       "         8.95979899,   9.45728643,   9.95477387,  10.45226131,\n",
       "        10.94974874,  11.44723618,  11.94472362,  12.44221106,\n",
       "        12.93969849,  13.43718593,  13.93467337,  14.4321608 ,\n",
       "        14.92964824,  15.42713568,  15.92462312,  16.42211055,\n",
       "        16.91959799,  17.41708543,  17.91457286,  18.4120603 ,\n",
       "        18.90954774,  19.40703518,  19.90452261,  20.40201005,\n",
       "        20.89949749,  21.39698492,  21.89447236,  22.3919598 ,\n",
       "        22.88944724,  23.38693467,  23.88442211,  24.38190955,\n",
       "        24.87939698,  25.37688442,  25.87437186,  26.3718593 ,\n",
       "        26.86934673,  27.36683417,  27.86432161,  28.36180905,\n",
       "        28.85929648,  29.35678392,  29.85427136,  30.35175879,\n",
       "        30.84924623,  31.34673367,  31.84422111,  32.34170854,\n",
       "        32.83919598,  33.33668342,  33.83417085,  34.33165829,\n",
       "        34.82914573,  35.32663317,  35.8241206 ,  36.32160804,\n",
       "        36.81909548,  37.31658291,  37.81407035,  38.31155779,\n",
       "        38.80904523,  39.30653266,  39.8040201 ,  40.30150754,\n",
       "        40.79899497,  41.29648241,  41.79396985,  42.29145729,\n",
       "        42.78894472,  43.28643216,  43.7839196 ,  44.28140704,\n",
       "        44.77889447,  45.27638191,  45.77386935,  46.27135678,\n",
       "        46.76884422,  47.26633166,  47.7638191 ,  48.26130653,\n",
       "        48.75879397,  49.25628141,  49.75376884,  50.25125628,\n",
       "        50.74874372,  51.24623116,  51.74371859,  52.24120603,\n",
       "        52.73869347,  53.2361809 ,  53.73366834,  54.23115578,\n",
       "        54.72864322,  55.22613065,  55.72361809,  56.22110553,\n",
       "        56.71859296,  57.2160804 ,  57.71356784,  58.21105528,\n",
       "        58.70854271,  59.20603015,  59.70351759,  60.20100503,\n",
       "        60.69849246,  61.1959799 ,  61.69346734,  62.19095477,\n",
       "        62.68844221,  63.18592965,  63.68341709,  64.18090452,\n",
       "        64.67839196,  65.1758794 ,  65.67336683,  66.17085427,\n",
       "        66.66834171,  67.16582915,  67.66331658,  68.16080402,\n",
       "        68.65829146,  69.15577889,  69.65326633,  70.15075377,\n",
       "        70.64824121,  71.14572864,  71.64321608,  72.14070352,\n",
       "        72.63819095,  73.13567839,  73.63316583,  74.13065327,\n",
       "        74.6281407 ,  75.12562814,  75.62311558,  76.12060302,\n",
       "        76.61809045,  77.11557789,  77.61306533,  78.11055276,\n",
       "        78.6080402 ,  79.10552764,  79.60301508,  80.10050251,\n",
       "        80.59798995,  81.09547739,  81.59296482,  82.09045226,\n",
       "        82.5879397 ,  83.08542714,  83.58291457,  84.08040201,\n",
       "        84.57788945,  85.07537688,  85.57286432,  86.07035176,\n",
       "        86.5678392 ,  87.06532663,  87.56281407,  88.06030151,\n",
       "        88.55778894,  89.05527638,  89.55276382,  90.05025126,\n",
       "        90.54773869,  91.04522613,  91.54271357,  92.04020101,\n",
       "        92.53768844,  93.03517588,  93.53266332,  94.03015075,\n",
       "        94.52763819,  95.02512563,  95.52261307,  96.0201005 ,\n",
       "        96.51758794,  97.01507538,  97.51256281,  98.01005025,\n",
       "        98.50753769,  99.00502513,  99.50251256, 100.        ])"
      ]
     },
     "execution_count": 43,
     "metadata": {},
     "output_type": "execute_result"
    }
   ],
   "source": [
    "two = np.linspace(1,100,200)\n",
    "two"
   ]
  },
  {
   "cell_type": "code",
   "execution_count": 44,
   "metadata": {},
   "outputs": [
    {
     "name": "stdout",
     "output_type": "stream",
     "text": [
      "200\n"
     ]
    }
   ],
   "source": [
    "print(two.size)"
   ]
  },
  {
   "cell_type": "code",
   "execution_count": 45,
   "metadata": {},
   "outputs": [
    {
     "data": {
      "text/plain": [
       "array([0.41196048, 0.96687955, 0.35025783, 0.2259161 , 0.41701587,\n",
       "       0.16573115, 0.48012202, 0.3158642 , 0.60812871, 0.64739964,\n",
       "       0.75238351, 0.00925954, 0.26316512, 0.22716164, 0.19349747,\n",
       "       0.88199569, 0.22450449, 0.54248172, 0.14302402, 0.24053272,\n",
       "       0.49397706, 0.59430104, 0.36447044, 0.64674174, 0.39322158,\n",
       "       0.11551327, 0.87291219, 0.00938867, 0.74787754, 0.23784945,\n",
       "       0.79361248, 0.91617267, 0.38546673, 0.30508191, 0.15114768,\n",
       "       0.8932841 , 0.0680916 , 0.93439118, 0.13903902, 0.8461067 ,\n",
       "       0.50722232, 0.8567407 , 0.98914081, 0.6833441 , 0.51996947,\n",
       "       0.95154459, 0.94360608, 0.92258405, 0.06054919, 0.48510655,\n",
       "       0.54080013, 0.39483977, 0.98936583, 0.92094662, 0.46619439,\n",
       "       0.95999397, 0.43504923, 0.04561815, 0.74708731, 0.82798324,\n",
       "       0.84971744, 0.37944786, 0.53461736, 0.66469184, 0.50056184,\n",
       "       0.74985615, 0.76658204, 0.59030544, 0.11866818, 0.13072366,\n",
       "       0.39713973, 0.30416772, 0.00945737, 0.95175123, 0.42379895,\n",
       "       0.64239349, 0.96151374, 0.07015796, 0.20689327, 0.34965007,\n",
       "       0.58872633, 0.27785228, 0.32351794, 0.75276173, 0.70367559,\n",
       "       0.23244175, 0.28455174, 0.83170925, 0.90665069, 0.52802544,\n",
       "       0.94040309, 0.85530672, 0.38878951, 0.9125104 , 0.62959197,\n",
       "       0.53415982, 0.3848538 , 0.94956832, 0.8295718 , 0.88114707])"
      ]
     },
     "execution_count": 45,
     "metadata": {},
     "output_type": "execute_result"
    }
   ],
   "source": [
    "n3 = np.random.rand(100)\n",
    "n3"
   ]
  },
  {
   "cell_type": "code",
   "execution_count": 46,
   "metadata": {},
   "outputs": [
    {
     "data": {
      "text/plain": [
       "array([4, 1, 8, 3, 1, 2, 4, 1, 8, 5, 2, 2, 3, 4, 4, 9, 8, 5, 5, 2, 6, 4,\n",
       "       5, 3, 6, 1, 2, 6, 6, 5, 6, 6, 1, 4, 3, 6, 4, 8, 2, 9, 3, 9, 3, 7,\n",
       "       5, 2, 2, 7, 2, 6, 8, 4, 6, 4, 7, 4, 8, 5, 7, 4, 8, 5, 3, 4, 3, 5,\n",
       "       1, 3, 3, 5, 4, 8, 5, 8, 7, 6, 9, 3, 6, 3, 3, 6, 9, 6, 2, 5, 2, 2,\n",
       "       9, 3, 9, 5, 8, 6, 1, 2, 8, 7, 3, 2])"
      ]
     },
     "execution_count": 46,
     "metadata": {},
     "output_type": "execute_result"
    }
   ],
   "source": [
    "n4 = np.random.randint(1,10,100)\n",
    "n4"
   ]
  },
  {
   "cell_type": "code",
   "execution_count": 47,
   "metadata": {},
   "outputs": [
    {
     "data": {
      "text/plain": [
       "array([[4, 1, 8, 3, 1, 2, 4, 1, 8, 5],\n",
       "       [2, 2, 3, 4, 4, 9, 8, 5, 5, 2],\n",
       "       [6, 4, 5, 3, 6, 1, 2, 6, 6, 5],\n",
       "       [6, 6, 1, 4, 3, 6, 4, 8, 2, 9],\n",
       "       [3, 9, 3, 7, 5, 2, 2, 7, 2, 6],\n",
       "       [8, 4, 6, 4, 7, 4, 8, 5, 7, 4],\n",
       "       [8, 5, 3, 4, 3, 5, 1, 3, 3, 5],\n",
       "       [4, 8, 5, 8, 7, 6, 9, 3, 6, 3],\n",
       "       [3, 6, 9, 6, 2, 5, 2, 2, 9, 3],\n",
       "       [9, 5, 8, 6, 1, 2, 8, 7, 3, 2]])"
      ]
     },
     "execution_count": 47,
     "metadata": {},
     "output_type": "execute_result"
    }
   ],
   "source": [
    "n4.reshape((10,10))"
   ]
  },
  {
   "cell_type": "code",
   "execution_count": 48,
   "metadata": {},
   "outputs": [
    {
     "data": {
      "text/plain": [
       "array([[[4, 1],\n",
       "        [8, 3],\n",
       "        [1, 2],\n",
       "        [4, 1],\n",
       "        [8, 5]],\n",
       "\n",
       "       [[2, 2],\n",
       "        [3, 4],\n",
       "        [4, 9],\n",
       "        [8, 5],\n",
       "        [5, 2]],\n",
       "\n",
       "       [[6, 4],\n",
       "        [5, 3],\n",
       "        [6, 1],\n",
       "        [2, 6],\n",
       "        [6, 5]],\n",
       "\n",
       "       [[6, 6],\n",
       "        [1, 4],\n",
       "        [3, 6],\n",
       "        [4, 8],\n",
       "        [2, 9]],\n",
       "\n",
       "       [[3, 9],\n",
       "        [3, 7],\n",
       "        [5, 2],\n",
       "        [2, 7],\n",
       "        [2, 6]],\n",
       "\n",
       "       [[8, 4],\n",
       "        [6, 4],\n",
       "        [7, 4],\n",
       "        [8, 5],\n",
       "        [7, 4]],\n",
       "\n",
       "       [[8, 5],\n",
       "        [3, 4],\n",
       "        [3, 5],\n",
       "        [1, 3],\n",
       "        [3, 5]],\n",
       "\n",
       "       [[4, 8],\n",
       "        [5, 8],\n",
       "        [7, 6],\n",
       "        [9, 3],\n",
       "        [6, 3]],\n",
       "\n",
       "       [[3, 6],\n",
       "        [9, 6],\n",
       "        [2, 5],\n",
       "        [2, 2],\n",
       "        [9, 3]],\n",
       "\n",
       "       [[9, 5],\n",
       "        [8, 6],\n",
       "        [1, 2],\n",
       "        [8, 7],\n",
       "        [3, 2]]])"
      ]
     },
     "execution_count": 48,
     "metadata": {},
     "output_type": "execute_result"
    }
   ],
   "source": [
    "n4.reshape((10,5,2))\n"
   ]
  },
  {
   "cell_type": "code",
   "execution_count": 49,
   "metadata": {},
   "outputs": [
    {
     "data": {
      "text/plain": [
       "array([[4, 1, 8, 3],\n",
       "       [1, 2, 4, 1],\n",
       "       [8, 5, 2, 2],\n",
       "       [3, 4, 4, 9],\n",
       "       [8, 5, 5, 2],\n",
       "       [6, 4, 5, 3],\n",
       "       [6, 1, 2, 6],\n",
       "       [6, 5, 6, 6],\n",
       "       [1, 4, 3, 6],\n",
       "       [4, 8, 2, 9],\n",
       "       [3, 9, 3, 7],\n",
       "       [5, 2, 2, 7],\n",
       "       [2, 6, 8, 4],\n",
       "       [6, 4, 7, 4],\n",
       "       [8, 5, 7, 4],\n",
       "       [8, 5, 3, 4],\n",
       "       [3, 5, 1, 3],\n",
       "       [3, 5, 4, 8],\n",
       "       [5, 8, 7, 6],\n",
       "       [9, 3, 6, 3],\n",
       "       [3, 6, 9, 6],\n",
       "       [2, 5, 2, 2],\n",
       "       [9, 3, 9, 5],\n",
       "       [8, 6, 1, 2],\n",
       "       [8, 7, 3, 2]])"
      ]
     },
     "execution_count": 49,
     "metadata": {},
     "output_type": "execute_result"
    }
   ],
   "source": [
    "n5 = n4.reshape(25,4)\n",
    "n5"
   ]
  },
  {
   "cell_type": "code",
   "execution_count": 50,
   "metadata": {},
   "outputs": [],
   "source": [
    "n1 = np.random.randint(1,10,(5,5))\n",
    "n2 = np.random.randint(1,10,(5,5))"
   ]
  },
  {
   "cell_type": "code",
   "execution_count": 51,
   "metadata": {},
   "outputs": [
    {
     "data": {
      "text/plain": [
       "array([[11,  7, 11,  8,  7],\n",
       "       [12, 11,  9, 15, 11],\n",
       "       [13, 10,  9, 16, 13],\n",
       "       [ 6,  5,  7, 12,  7],\n",
       "       [ 4, 10, 11,  9, 16]])"
      ]
     },
     "execution_count": 51,
     "metadata": {},
     "output_type": "execute_result"
    }
   ],
   "source": [
    "n1 + n2"
   ]
  },
  {
   "cell_type": "code",
   "execution_count": 52,
   "metadata": {},
   "outputs": [
    {
     "data": {
      "text/plain": [
       "array([[     512,       64,     6561,      125,       81],\n",
       "       [   65536,    15625,        1,  5764801,     7776],\n",
       "       [   32768,     1296,      729, 40353607,   390625],\n",
       "       [      16,        4,       81,    19683,        1],\n",
       "       [       4,     2187,      512,        1,  4782969]])"
      ]
     },
     "execution_count": 52,
     "metadata": {},
     "output_type": "execute_result"
    }
   ],
   "source": [
    "n1 ** n2"
   ]
  },
  {
   "cell_type": "code",
   "execution_count": 53,
   "metadata": {},
   "outputs": [
    {
     "data": {
      "text/plain": [
       "array([[32, 16, 12, 20, 12],\n",
       "       [16, 20,  4, 28, 24],\n",
       "       [32, 24, 12, 28, 20],\n",
       "       [ 8, 16, 12, 12,  4],\n",
       "       [ 8, 12, 32,  4, 36]])"
      ]
     },
     "execution_count": 53,
     "metadata": {},
     "output_type": "execute_result"
    }
   ],
   "source": [
    "n1 * 4"
   ]
  },
  {
   "cell_type": "code",
   "execution_count": 54,
   "metadata": {},
   "outputs": [
    {
     "data": {
      "text/plain": [
       "array([[ 97,  86, 143, 152, 127],\n",
       "       [ 97,  95, 124, 172, 133],\n",
       "       [125, 114, 173, 202, 163],\n",
       "       [ 67,  52,  81, 100,  77],\n",
       "       [ 92, 120, 119, 183, 156]])"
      ]
     },
     "execution_count": 54,
     "metadata": {},
     "output_type": "execute_result"
    }
   ],
   "source": [
    "n1.dot(n2)"
   ]
  },
  {
   "cell_type": "code",
   "execution_count": 55,
   "metadata": {},
   "outputs": [
    {
     "data": {
      "text/plain": [
       "array([1, 8, 8, 6, 1, 6, 9, 4, 5, 8])"
      ]
     },
     "execution_count": 55,
     "metadata": {},
     "output_type": "execute_result"
    }
   ],
   "source": [
    "n6 = np.random.randint(1,10,10)\n",
    "n6"
   ]
  },
  {
   "cell_type": "code",
   "execution_count": 56,
   "metadata": {},
   "outputs": [
    {
     "data": {
      "text/plain": [
       "8"
      ]
     },
     "execution_count": 56,
     "metadata": {},
     "output_type": "execute_result"
    }
   ],
   "source": [
    "n6[-1]"
   ]
  },
  {
   "cell_type": "code",
   "execution_count": 57,
   "metadata": {},
   "outputs": [
    {
     "data": {
      "text/plain": [
       "array([1, 8, 8, 6, 1])"
      ]
     },
     "execution_count": 57,
     "metadata": {},
     "output_type": "execute_result"
    }
   ],
   "source": [
    "n6[:5]"
   ]
  },
  {
   "cell_type": "code",
   "execution_count": 61,
   "metadata": {},
   "outputs": [
    {
     "data": {
      "text/plain": [
       "array([1])"
      ]
     },
     "execution_count": 61,
     "metadata": {},
     "output_type": "execute_result"
    }
   ],
   "source": [
    "n6[4:5]"
   ]
  },
  {
   "cell_type": "code",
   "execution_count": 59,
   "metadata": {},
   "outputs": [
    {
     "data": {
      "text/plain": [
       "array([4, 1, 8, 3, 1, 2, 4, 1, 8, 5, 2, 2, 3, 4, 4, 9, 8, 5, 5, 2, 6, 4,\n",
       "       5, 3, 6, 1, 2, 6, 6, 5, 6, 6, 1, 4, 3, 6, 4, 8, 2, 9, 3, 9, 3, 7,\n",
       "       5, 2, 2, 7, 2, 6, 8, 4, 6, 4, 7, 4, 8, 5, 7, 4, 8, 5, 3, 4, 3, 5,\n",
       "       1, 3, 3, 5, 4, 8, 5, 8, 7, 6, 9, 3, 6, 3, 3, 6, 9, 6, 2, 5, 2, 2,\n",
       "       9, 3, 9, 5, 8, 6, 1, 2, 8, 7, 3, 2])"
      ]
     },
     "execution_count": 59,
     "metadata": {},
     "output_type": "execute_result"
    }
   ],
   "source": [
    "#flatter a n dimen matrix to 1 dimen matrix\n",
    "n5.flatten()"
   ]
  },
  {
   "cell_type": "code",
   "execution_count": 63,
   "metadata": {},
   "outputs": [
    {
     "name": "stdout",
     "output_type": "stream",
     "text": [
      "[[4 2 1 2 8]\n",
      " [3 8 6 9 3]\n",
      " [1 4 5 2 2]\n",
      " [6 8 9 6 4]\n",
      " [1 6 5 6 6]]\n"
     ]
    }
   ],
   "source": [
    "x = np.random.randint(1,10,(5,5))\n",
    "print(x)"
   ]
  },
  {
   "cell_type": "code",
   "execution_count": 65,
   "metadata": {},
   "outputs": [
    {
     "data": {
      "text/plain": [
       "array([[4, 3, 1, 6, 1],\n",
       "       [2, 8, 4, 8, 6],\n",
       "       [1, 6, 5, 9, 5],\n",
       "       [2, 9, 2, 6, 6],\n",
       "       [8, 3, 2, 4, 6]])"
      ]
     },
     "execution_count": 65,
     "metadata": {},
     "output_type": "execute_result"
    }
   ],
   "source": [
    "x.transpose()#transpose is row to column and column to row"
   ]
  },
  {
   "cell_type": "code",
   "execution_count": 66,
   "metadata": {},
   "outputs": [
    {
     "data": {
      "text/plain": [
       "array([1, 8, 8, 6, 1, 6, 9, 4, 5, 8])"
      ]
     },
     "execution_count": 66,
     "metadata": {},
     "output_type": "execute_result"
    }
   ],
   "source": [
    "n6"
   ]
  },
  {
   "cell_type": "code",
   "execution_count": 68,
   "metadata": {},
   "outputs": [
    {
     "data": {
      "text/plain": [
       "5.6"
      ]
     },
     "execution_count": 68,
     "metadata": {},
     "output_type": "execute_result"
    }
   ],
   "source": [
    "n6.mean()"
   ]
  },
  {
   "cell_type": "code",
   "execution_count": 70,
   "metadata": {},
   "outputs": [
    {
     "data": {
      "text/plain": [
       "56"
      ]
     },
     "execution_count": 70,
     "metadata": {},
     "output_type": "execute_result"
    }
   ],
   "source": [
    "n6.sum()"
   ]
  },
  {
   "cell_type": "code",
   "execution_count": 71,
   "metadata": {},
   "outputs": [
    {
     "data": {
      "text/plain": [
       "9"
      ]
     },
     "execution_count": 71,
     "metadata": {},
     "output_type": "execute_result"
    }
   ],
   "source": [
    "n6.max()"
   ]
  },
  {
   "cell_type": "code",
   "execution_count": 72,
   "metadata": {},
   "outputs": [
    {
     "name": "stdout",
     "output_type": "stream",
     "text": [
      "[1 8 8 6 1 6 9 4 5 8] 9 found at index 6\n",
      "[1 8 8 6 1 6 9 4 5 8] 1 found at index 0\n"
     ]
    }
   ],
   "source": [
    "print(n6, n6.max(),\"found at index\", n6.argmax())\n",
    "print(n6, n6.min(),\"found at index\", n6.argmin())"
   ]
  },
  {
   "cell_type": "code",
   "execution_count": 73,
   "metadata": {},
   "outputs": [
    {
     "name": "stdout",
     "output_type": "stream",
     "text": [
      "[[43 19]\n",
      " [ 2 41]\n",
      " [ 9 93]]\n",
      "[[19 83]\n",
      " [ 7 73]\n",
      " [20 42]]\n",
      "[[71 15 91]\n",
      " [42 77 53]]\n"
     ]
    }
   ],
   "source": [
    "a = np.random.randint(1,100, (3,2))\n",
    "b = np.random.randint(1,100, (3,2))\n",
    "c = np.random.randint(1,100, (2,3))\n",
    "\n",
    "print(a)\n",
    "print(b)\n",
    "print(c)"
   ]
  },
  {
   "cell_type": "code",
   "execution_count": 74,
   "metadata": {},
   "outputs": [
    {
     "data": {
      "text/plain": [
       "array([[43, 19, 19, 83],\n",
       "       [ 2, 41,  7, 73],\n",
       "       [ 9, 93, 20, 42]])"
      ]
     },
     "execution_count": 74,
     "metadata": {},
     "output_type": "execute_result"
    }
   ],
   "source": [
    "np.hstack((a,b)) # horizontal stack"
   ]
  },
  {
   "cell_type": "code",
   "execution_count": 75,
   "metadata": {},
   "outputs": [
    {
     "data": {
      "text/plain": [
       "array([[43, 19],\n",
       "       [ 2, 41],\n",
       "       [ 9, 93],\n",
       "       [71, 42],\n",
       "       [15, 77],\n",
       "       [91, 53]])"
      ]
     },
     "execution_count": 75,
     "metadata": {},
     "output_type": "execute_result"
    }
   ],
   "source": [
    "np.vstack((a, c.T))"
   ]
  },
  {
   "cell_type": "code",
   "execution_count": 76,
   "metadata": {},
   "outputs": [],
   "source": [
    "m = np.array([1,2,3,4,2,2,3,5,6,1,2,2,3,5,6,1,2,3,5,6,2,4,5,6,3,1,2,3,5,7,6,8,9])\n"
   ]
  },
  {
   "cell_type": "code",
   "execution_count": 77,
   "metadata": {},
   "outputs": [
    {
     "data": {
      "text/plain": [
       "array([False, False, False, False, False, False, False, False,  True,\n",
       "       False, False, False, False, False,  True, False, False, False,\n",
       "       False,  True, False, False, False,  True, False, False, False,\n",
       "       False, False,  True,  True,  True,  True])"
      ]
     },
     "execution_count": 77,
     "metadata": {},
     "output_type": "execute_result"
    }
   ],
   "source": [
    "# boolean filter\n",
    "m > 5"
   ]
  },
  {
   "cell_type": "code",
   "execution_count": 78,
   "metadata": {},
   "outputs": [
    {
     "data": {
      "text/plain": [
       "array([1, 3, 4, 3, 5, 6, 1, 3, 5, 6, 1, 3, 5, 6, 4, 5, 6, 3, 1, 3, 5, 7,\n",
       "       6, 8, 9])"
      ]
     },
     "execution_count": 78,
     "metadata": {},
     "output_type": "execute_result"
    }
   ],
   "source": [
    "m[m != 2]"
   ]
  },
  {
   "cell_type": "code",
   "execution_count": 79,
   "metadata": {},
   "outputs": [
    {
     "data": {
      "text/plain": [
       "array([3, 4, 3, 5, 6, 3, 5, 6, 3, 5, 6, 4, 5, 6, 3, 3, 5, 7, 6])"
      ]
     },
     "execution_count": 79,
     "metadata": {},
     "output_type": "execute_result"
    }
   ],
   "source": [
    "# in range of 2 to 8\n",
    "m[(m > 2) & (m < 8)]"
   ]
  },
  {
   "cell_type": "code",
   "execution_count": 81,
   "metadata": {},
   "outputs": [],
   "source": [
    "mat = []\n",
    "for i in range(10):\n",
    "    mat.append(int(input('Enter value')))\n",
    "mat = np.array(mat)"
   ]
  },
  {
   "cell_type": "code",
   "execution_count": 82,
   "metadata": {},
   "outputs": [
    {
     "data": {
      "text/plain": [
       "array([3, 4, 3, 4, 6, 7, 5, 9, 6, 6])"
      ]
     },
     "execution_count": 82,
     "metadata": {},
     "output_type": "execute_result"
    }
   ],
   "source": [
    "mat"
   ]
  },
  {
   "cell_type": "code",
   "execution_count": 83,
   "metadata": {},
   "outputs": [
    {
     "name": "stdout",
     "output_type": "stream",
     "text": [
      "[3 4 3 4 6 7 5 9 6 6] (10,)\n"
     ]
    }
   ],
   "source": [
    "print(mat, mat.shape)"
   ]
  },
  {
   "cell_type": "code",
   "execution_count": 84,
   "metadata": {},
   "outputs": [
    {
     "name": "stdout",
     "output_type": "stream",
     "text": [
      "[[4 3 5]\n",
      " [7 8 2]] (2, 3)\n"
     ]
    }
   ],
   "source": [
    "# user created numpy matrix\n",
    "mat= []\n",
    "for i in range(2):\n",
    "    smat = []\n",
    "    for j in range(3):\n",
    "        smat.append(int(input('Enter value')))\n",
    "    mat.append(smat)\n",
    "mat = np.array(mat)\n",
    "print(mat, mat.shape)"
   ]
  },
  {
   "cell_type": "code",
   "execution_count": null,
   "metadata": {},
   "outputs": [],
   "source": []
  }
 ],
 "metadata": {
  "kernelspec": {
   "display_name": "Python 3.9.12 ('base')",
   "language": "python",
   "name": "python3"
  },
  "language_info": {
   "codemirror_mode": {
    "name": "ipython",
    "version": 3
   },
   "file_extension": ".py",
   "mimetype": "text/x-python",
   "name": "python",
   "nbconvert_exporter": "python",
   "pygments_lexer": "ipython3",
   "version": "3.9.12"
  },
  "orig_nbformat": 4,
  "vscode": {
   "interpreter": {
    "hash": "8ffdc11bececb8d95358727aa21129787f18025f8ea03f8e9c86b8ffd7924553"
   }
  }
 },
 "nbformat": 4,
 "nbformat_minor": 2
}
