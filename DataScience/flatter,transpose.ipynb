{
 "cells": [
  {
   "cell_type": "code",
   "execution_count": null,
   "metadata": {},
   "outputs": [],
   "source": [
    "import numpy as np\n",
    "import pandas as pd"
   ]
  },
  {
   "cell_type": "code",
   "execution_count": 7,
   "metadata": {},
   "outputs": [],
   "source": [
    "x = [1,2,3,5,1,2]\n",
    "nx=np.array(x)"
   ]
  },
  {
   "cell_type": "code",
   "execution_count": 8,
   "metadata": {},
   "outputs": [
    {
     "data": {
      "text/plain": [
       "array([3, 7, 6, 2, 1, 7, 3, 6, 5, 4, 6, 1, 2, 2, 4, 5, 2, 8, 7, 1, 8, 4,\n",
       "       4, 3, 8, 1, 3, 4, 2, 8, 5, 9, 9, 6, 2, 3, 3, 1, 3, 6, 7, 9, 3, 2,\n",
       "       9, 7, 6, 3, 3, 7, 3, 6, 9, 4, 1, 1, 6, 8, 1, 4, 1, 8, 4, 5, 8, 7,\n",
       "       4, 2, 5, 9, 6, 7, 1, 1, 1, 2, 5, 1, 1, 8, 7, 8, 2, 6, 8, 7, 6, 4,\n",
       "       3, 6, 5, 3, 1, 4, 6, 4, 8, 2, 5, 7])"
      ]
     },
     "execution_count": 8,
     "metadata": {},
     "output_type": "execute_result"
    }
   ],
   "source": [
    "n4 = np.random.randint(1,10,100)\n",
    "n4"
   ]
  },
  {
   "cell_type": "code",
   "execution_count": 9,
   "metadata": {},
   "outputs": [
    {
     "data": {
      "text/plain": [
       "array([[3, 7, 6, 2, 1, 7, 3, 6, 5, 4],\n",
       "       [6, 1, 2, 2, 4, 5, 2, 8, 7, 1],\n",
       "       [8, 4, 4, 3, 8, 1, 3, 4, 2, 8],\n",
       "       [5, 9, 9, 6, 2, 3, 3, 1, 3, 6],\n",
       "       [7, 9, 3, 2, 9, 7, 6, 3, 3, 7],\n",
       "       [3, 6, 9, 4, 1, 1, 6, 8, 1, 4],\n",
       "       [1, 8, 4, 5, 8, 7, 4, 2, 5, 9],\n",
       "       [6, 7, 1, 1, 1, 2, 5, 1, 1, 8],\n",
       "       [7, 8, 2, 6, 8, 7, 6, 4, 3, 6],\n",
       "       [5, 3, 1, 4, 6, 4, 8, 2, 5, 7]])"
      ]
     },
     "execution_count": 9,
     "metadata": {},
     "output_type": "execute_result"
    }
   ],
   "source": [
    "n4.reshape((10,10))"
   ]
  },
  {
   "cell_type": "code",
   "execution_count": 11,
   "metadata": {},
   "outputs": [
    {
     "data": {
      "text/plain": [
       "array([[3, 7, 6, 2],\n",
       "       [1, 7, 3, 6],\n",
       "       [5, 4, 6, 1],\n",
       "       [2, 2, 4, 5],\n",
       "       [2, 8, 7, 1],\n",
       "       [8, 4, 4, 3],\n",
       "       [8, 1, 3, 4],\n",
       "       [2, 8, 5, 9],\n",
       "       [9, 6, 2, 3],\n",
       "       [3, 1, 3, 6],\n",
       "       [7, 9, 3, 2],\n",
       "       [9, 7, 6, 3],\n",
       "       [3, 7, 3, 6],\n",
       "       [9, 4, 1, 1],\n",
       "       [6, 8, 1, 4],\n",
       "       [1, 8, 4, 5],\n",
       "       [8, 7, 4, 2],\n",
       "       [5, 9, 6, 7],\n",
       "       [1, 1, 1, 2],\n",
       "       [5, 1, 1, 8],\n",
       "       [7, 8, 2, 6],\n",
       "       [8, 7, 6, 4],\n",
       "       [3, 6, 5, 3],\n",
       "       [1, 4, 6, 4],\n",
       "       [8, 2, 5, 7]])"
      ]
     },
     "execution_count": 11,
     "metadata": {},
     "output_type": "execute_result"
    }
   ],
   "source": [
    "n5 = n4.reshape((25,4))\n",
    "n5"
   ]
  },
  {
   "cell_type": "code",
   "execution_count": 12,
   "metadata": {},
   "outputs": [
    {
     "name": "stderr",
     "output_type": "stream",
     "text": [
      "<>:3: SyntaxWarning: 'int' object is not callable; perhaps you missed a comma?\n",
      "<>:3: SyntaxWarning: 'int' object is not callable; perhaps you missed a comma?\n",
      "C:\\Users\\shruti\\AppData\\Local\\Temp\\ipykernel_8324\\3735142411.py:3: SyntaxWarning: 'int' object is not callable; perhaps you missed a comma?\n",
      "  c = np.random.randint(1,100(2,3))\n",
      "C:\\Users\\shruti\\AppData\\Local\\Temp\\ipykernel_8324\\3735142411.py:3: SyntaxWarning: 'int' object is not callable; perhaps you missed a comma?\n",
      "  c = np.random.randint(1,100(2,3))\n",
      "C:\\Users\\shruti\\AppData\\Local\\Temp\\ipykernel_8324\\3735142411.py:3: SyntaxWarning: 'int' object is not callable; perhaps you missed a comma?\n",
      "  c = np.random.randint(1,100(2,3))\n",
      "C:\\Users\\shruti\\AppData\\Local\\Temp\\ipykernel_8324\\3735142411.py:3: SyntaxWarning: 'int' object is not callable; perhaps you missed a comma?\n",
      "  c = np.random.randint(1,100(2,3))\n"
     ]
    },
    {
     "ename": "TypeError",
     "evalue": "'int' object is not callable",
     "output_type": "error",
     "traceback": [
      "\u001b[1;31m---------------------------------------------------------------------------\u001b[0m",
      "\u001b[1;31mTypeError\u001b[0m                                 Traceback (most recent call last)",
      "\u001b[1;32mc:\\Users\\shruti\\Documents\\Python Class\\DataScience\\flatter,transpose.ipynb Cell 6\u001b[0m in \u001b[0;36m<cell line: 3>\u001b[1;34m()\u001b[0m\n\u001b[0;32m      <a href='vscode-notebook-cell:/c%3A/Users/shruti/Documents/Python%20Class/DataScience/flatter%2Ctranspose.ipynb#X10sZmlsZQ%3D%3D?line=0'>1</a>\u001b[0m a \u001b[39m=\u001b[39m np\u001b[39m.\u001b[39mrandom\u001b[39m.\u001b[39mrandint(\u001b[39m1\u001b[39m,\u001b[39m100\u001b[39m,(\u001b[39m3\u001b[39m,\u001b[39m5\u001b[39m))\n\u001b[0;32m      <a href='vscode-notebook-cell:/c%3A/Users/shruti/Documents/Python%20Class/DataScience/flatter%2Ctranspose.ipynb#X10sZmlsZQ%3D%3D?line=1'>2</a>\u001b[0m b \u001b[39m=\u001b[39m np\u001b[39m.\u001b[39mrandom\u001b[39m.\u001b[39mrandint(\u001b[39m1\u001b[39m,\u001b[39m100\u001b[39m,(\u001b[39m3\u001b[39m,\u001b[39m2\u001b[39m))\n\u001b[1;32m----> <a href='vscode-notebook-cell:/c%3A/Users/shruti/Documents/Python%20Class/DataScience/flatter%2Ctranspose.ipynb#X10sZmlsZQ%3D%3D?line=2'>3</a>\u001b[0m c \u001b[39m=\u001b[39m np\u001b[39m.\u001b[39mrandom\u001b[39m.\u001b[39mrandint(\u001b[39m1\u001b[39m,\u001b[39m100\u001b[39;49m(\u001b[39m2\u001b[39;49m,\u001b[39m3\u001b[39;49m))\n\u001b[0;32m      <a href='vscode-notebook-cell:/c%3A/Users/shruti/Documents/Python%20Class/DataScience/flatter%2Ctranspose.ipynb#X10sZmlsZQ%3D%3D?line=3'>4</a>\u001b[0m \u001b[39mprint\u001b[39m(a)\n\u001b[0;32m      <a href='vscode-notebook-cell:/c%3A/Users/shruti/Documents/Python%20Class/DataScience/flatter%2Ctranspose.ipynb#X10sZmlsZQ%3D%3D?line=4'>5</a>\u001b[0m \u001b[39mprint\u001b[39m(b)\n",
      "\u001b[1;31mTypeError\u001b[0m: 'int' object is not callable"
     ]
    }
   ],
   "source": [
    "a = np.random.randint(1,100,(3,5))\n",
    "b = np.random.randint(1,100,(3,2))\n",
    "c = np.random.randint(1,100(2,3))\n",
    "print(a)\n",
    "print(b)\n",
    "print(b)"
   ]
  },
  {
   "cell_type": "code",
   "execution_count": 14,
   "metadata": {},
   "outputs": [
    {
     "data": {
      "text/plain": [
       "array([[89, 57, 58, 34, 26, 66, 22],\n",
       "       [90, 78, 67, 87, 86, 36,  1],\n",
       "       [66, 37, 97, 42, 97, 49, 79]])"
      ]
     },
     "execution_count": 14,
     "metadata": {},
     "output_type": "execute_result"
    }
   ],
   "source": [
    "np.hstack((a,b))"
   ]
  },
  {
   "cell_type": "code",
   "execution_count": 16,
   "metadata": {},
   "outputs": [
    {
     "ename": "NameError",
     "evalue": "name 'T' is not defined",
     "output_type": "error",
     "traceback": [
      "\u001b[1;31m---------------------------------------------------------------------------\u001b[0m",
      "\u001b[1;31mNameError\u001b[0m                                 Traceback (most recent call last)",
      "\u001b[1;32mc:\\Users\\shruti\\Documents\\Python Class\\DataScience\\flatter,transpose.ipynb Cell 8\u001b[0m in \u001b[0;36m<cell line: 1>\u001b[1;34m()\u001b[0m\n\u001b[1;32m----> <a href='vscode-notebook-cell:/c%3A/Users/shruti/Documents/Python%20Class/DataScience/flatter%2Ctranspose.ipynb#X12sZmlsZQ%3D%3D?line=0'>1</a>\u001b[0m np\u001b[39m.\u001b[39mvstack((a,b,T))\n",
      "\u001b[1;31mNameError\u001b[0m: name 'T' is not defined"
     ]
    }
   ],
   "source": [
    "np.vstack((a,b))"
   ]
  },
  {
   "cell_type": "code",
   "execution_count": 19,
   "metadata": {},
   "outputs": [],
   "source": [
    "m = np.array([1,2,3,2,1,2,4,2,1,2,3,2,1,2,3,4,3,3,4,3,3])"
   ]
  },
  {
   "cell_type": "code",
   "execution_count": 20,
   "metadata": {},
   "outputs": [
    {
     "data": {
      "text/plain": [
       "array([False, False, False, False, False, False, False, False, False,\n",
       "       False, False, False, False, False, False, False, False, False,\n",
       "       False, False, False])"
      ]
     },
     "execution_count": 20,
     "metadata": {},
     "output_type": "execute_result"
    }
   ],
   "source": [
    "#boolen filter\n",
    "m > 5"
   ]
  },
  {
   "cell_type": "code",
   "execution_count": 21,
   "metadata": {},
   "outputs": [
    {
     "data": {
      "text/plain": [
       "array([2, 3, 2, 2, 4, 2, 2, 3, 2, 2, 3, 4, 3, 3, 4, 3, 3])"
      ]
     },
     "execution_count": 21,
     "metadata": {},
     "output_type": "execute_result"
    }
   ],
   "source": [
    "m[m>1]"
   ]
  },
  {
   "cell_type": "code",
   "execution_count": 22,
   "metadata": {},
   "outputs": [
    {
     "data": {
      "text/plain": [
       "array([1, 3, 1, 4, 1, 3, 1, 3, 4, 3, 3, 4, 3, 3])"
      ]
     },
     "execution_count": 22,
     "metadata": {},
     "output_type": "execute_result"
    }
   ],
   "source": [
    "m[m !=2]"
   ]
  },
  {
   "cell_type": "code",
   "execution_count": 23,
   "metadata": {},
   "outputs": [
    {
     "data": {
      "text/plain": [
       "array([2, 3, 2, 2, 2, 2, 3, 2, 2, 3, 3, 3, 3, 3])"
      ]
     },
     "execution_count": 23,
     "metadata": {},
     "output_type": "execute_result"
    }
   ],
   "source": [
    "#in range of 2 to 8\n",
    "m[(m>1) & (m<4)]"
   ]
  },
  {
   "cell_type": "code",
   "execution_count": 24,
   "metadata": {},
   "outputs": [],
   "source": [
    "mat = []\n",
    "for i in range(10):\n",
    "    mat.append(int(input('Enter number')))\n",
    "mat = np.array(mat)\n"
   ]
  },
  {
   "cell_type": "code",
   "execution_count": null,
   "metadata": {},
   "outputs": [],
   "source": [
    "print(mat,mat.shape4)"
   ]
  }
 ],
 "metadata": {
  "kernelspec": {
   "display_name": "Python 3.9.12 ('base')",
   "language": "python",
   "name": "python3"
  },
  "language_info": {
   "codemirror_mode": {
    "name": "ipython",
    "version": 3
   },
   "file_extension": ".py",
   "mimetype": "text/x-python",
   "name": "python",
   "nbconvert_exporter": "python",
   "pygments_lexer": "ipython3",
   "version": "3.9.12"
  },
  "orig_nbformat": 4,
  "vscode": {
   "interpreter": {
    "hash": "8ffdc11bececb8d95358727aa21129787f18025f8ea03f8e9c86b8ffd7924553"
   }
  }
 },
 "nbformat": 4,
 "nbformat_minor": 2
}
